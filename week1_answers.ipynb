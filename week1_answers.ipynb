{
 "cells": [
  {
   "cell_type": "markdown",
   "metadata": {},
   "source": [
    "# **Wave Fundamentals Answer Key**\n",
    "\n",
    "#### By: Abby Eckland\n",
    "\n",
    "#### Week 1 Problem Set Key"
   ]
  },
  {
   "cell_type": "markdown",
   "metadata": {},
   "source": [
    "## Question\n",
    "\n",
    "**Goal:** \n",
    "\n",
    "Calculate the wavelength of the 1990 tsunami (recall Problem 1). \n",
    "\n",
    "**Steps:**\n",
    "\n",
    "1) Draw a picture illustrating what variables you know (distance, time, speed) and what you need to determine.\n",
    "\n",
    "2) Convert travel time of the tsunami wave in hours to seconds. 1 hr = 3600 s. \n",
    "\n",
    "3) Calculate the frequency of the tsunami wave in Hz.\n",
    "\n",
    "4) Rearrange the wave equation to solve for $λ$.\n",
    "\n",
    "5) Your result should be pretty big. Convert your answer in meters back to miles. 1 m = 6.214E-4 miles.\n",
    "\n",
    "6) What do you notice about the wavelength? "
   ]
  },
  {
   "cell_type": "markdown",
   "metadata": {},
   "source": [
    "# Answer\n"
   ]
  },
  {
   "cell_type": "markdown",
   "metadata": {},
   "source": [
    "Step 1) Student should draw a picture of a wave that has traveled a distance of 6200 miles. Time travelled = 15 hours and speed = 184.52 m/s should be noted next to the diagram. Student must indicate that the wavelength and frequency are unknown. "
   ]
  },
  {
   "cell_type": "code",
   "execution_count": null,
   "metadata": {},
   "outputs": [],
   "source": [
    "# step 2\n",
    "time_in_seconds = 15*3600\n",
    "print(time_in_seconds, \"= time (s)\")"
   ]
  },
  {
   "cell_type": "code",
   "execution_count": null,
   "metadata": {},
   "outputs": [],
   "source": [
    "# step 3\n",
    "# equation: f = 1/t\n",
    "f = 1/time_in_seconds\n",
    "print(round(f,7), \"= frequency (Hz)\")"
   ]
  },
  {
   "cell_type": "code",
   "execution_count": null,
   "metadata": {},
   "outputs": [],
   "source": [
    "# step 4, wave equation is v = f * λ, so basic algebra permits λ = v / f\n",
    "λ = 184.52/f\n",
    "print(λ, \"= wavelength (m)\")"
   ]
  },
  {
   "cell_type": "code",
   "execution_count": null,
   "metadata": {},
   "outputs": [],
   "source": [
    "# step 5\n",
    "λ_in_mi = λ*6.214E-4\n",
    "print(round(λ_in_mi,2), \"= wavelength (mi)\")"
   ]
  },
  {
   "cell_type": "markdown",
   "metadata": {},
   "source": [
    "Step 6) the wavelength is essentially equal to the distance travelled, so the tsunami wave has a very long wavelength. That will be one big wave when it hits the shore!"
   ]
  }
 ],
 "metadata": {
  "kernelspec": {
   "display_name": "Python 3",
   "language": "python",
   "name": "python3"
  },
  "language_info": {
   "codemirror_mode": {
    "name": "ipython",
    "version": 3
   },
   "file_extension": ".py",
   "mimetype": "text/x-python",
   "name": "python",
   "nbconvert_exporter": "python",
   "pygments_lexer": "ipython3",
   "version": "3.7.7"
  }
 },
 "nbformat": 4,
 "nbformat_minor": 4
}

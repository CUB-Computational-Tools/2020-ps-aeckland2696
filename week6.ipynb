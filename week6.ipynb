{
 "cells": [
  {
   "cell_type": "markdown",
   "metadata": {},
   "source": [
    "# The Steady Geotherm and Functions in R\n",
    "\n",
    "#### By: Abby Eckland\n",
    "#### Final Problem Set (Week 6)"
   ]
  },
  {
   "cell_type": "markdown",
   "metadata": {},
   "source": [
    "## Learning Goals\n",
    "\n",
    "#### During this this exercise, you will...\n",
    "##### ***Programming goals:*** \n",
    "\n",
    "1) Learn the basics of functions in R, including defining functions, variable scope, and mapping.\n",
    "\n",
    "2) Practice executing functions to calculate the geothermal gradient in the Earth's crust.\n",
    "\n",
    "##### ***Learning goals:***\n",
    "\n",
    "1) Describe what the steady geotherm is and what controls the temperature profile in the Earth's crust. \n",
    "\n",
    "2) Determine how the geotherm changes (i.e., slope, x-intercept) as average temperature at the surface, among other controls, change."
   ]
  },
  {
   "cell_type": "markdown",
   "metadata": {},
   "source": [
    "## Prerequisites\n",
    "\n",
    "##### ***Programming prerequisites:*** \n",
    "Students should have some prior experience executing R code, working with data structures, and plotting with ggplot (i.e., beginner stage). No prior knowledge about functions is required.\n",
    "\n",
    "##### ***Learning prerequesites:***\n",
    "Students should be a geology major and have completed introductory geology and earth materials."
   ]
  },
  {
   "cell_type": "markdown",
   "metadata": {},
   "source": [
    "## Lesson Background\n",
    "\n",
    "This lesson will go over what governs and how to calculate the temperature profile in the Earth's crust, aka the geothermal gradient, or better yet, the geotherm. It is important to constrain the temperature profile within the near-surface Earth in order to interpret exhumation histories from thermochronology, for predicting the depth of permafrost (permantently frozen ground), and to potentially deduce the temperature history of the Earth's surface. It turns out, many near-surface processes are driven by changes in temperature. \n",
    "\n",
    "We will not be deriving the steady geotherm equation together, but note that the following equation denotes the steady geotherm:\n",
    "\n",
    "$$T = \\overline{T_s} + \\frac{Q_m}{k}*z$$\n",
    "\n",
    "where $\\overline{T_s}$ is the average temperature at the surface in $^\\circ C$, $Q_m$ is the mantle-derived heat flux in $W/m^2$, $k$ is the thermal conductivity in $W/m^\\circ K$, and $z$ is the depth in meters. Mantle-derived heat flux is essentially the primordial heat left over from Earth's formation, and thermal conductivity is a measure of the intrinsic ability of a material to conduct heat. \n",
    "\n",
    "By steady state, we mean that the rate of temperature change with depth is not changing, and the only heat source being considered is the mantle-derived heat flux. Heat generated from radioactive decay is not included in this equation. Therefore, the temperature profiles we calculate and figures we plot will show a linear relationship of temperature with respect to depth. The $\\frac{Q_m}{k}$ part of the equation is the slope of the geotherm and describes the temperature gradient in $\\frac{^\\circ C}{m}$.\n",
    "\n",
    "This is the simplest equation for calculating the geotherm. Note that effects from radioactivity, depth (and hence, pressure), differential conductivity of subsurface material, and other factors can all lead to \"kinks\" in the geotherm. We will be evaluating the steady geotherm in the near subsurface, within only 10 kms of the surface, so we do not expect to see any kinks in today's lesson. The figure below shows what the geotherm looks like from the surface all the way to the inner core of the Earth."
   ]
  },
  {
   "cell_type": "markdown",
   "metadata": {},
   "source": [
    "**Figure 1** The geothermal gradient of the inner Earth\n",
    "\n",
    "![The Geotherm](data/geotherm.jpg)"
   ]
  },
  {
   "cell_type": "markdown",
   "metadata": {},
   "source": [
    "## Programming Background\n",
    "\n",
    "**Functions** are a useful tool in programming where we can take what we already know how to do and put it in a container that allows us to use it again and again. Functions are quite simple. We will go over the parts of a function next.\n",
    "\n",
    "### Defining Functions\n",
    "\n",
    "#### Function Keyword\n",
    "\n",
    "An R function is created by using the keyword **function**. The basic syntax of an R function definition is as follows:"
   ]
  },
  {
   "cell_type": "markdown",
   "metadata": {},
   "source": [
    "```function_name <- function(arg_1, arg_2,...) {\n",
    "    Function body\n",
    "}```"
   ]
  },
  {
   "cell_type": "markdown",
   "metadata": {},
   "source": [
    "#### Function Components \n",
    "\n",
    "The different parts of a function are:\n",
    "- **Function Name** - This is the actual name of the function. It is stored in R environment as an object with this name.\n",
    "- **Arguments** - An argument is a placeholder. When a function is invoked, you pass a value to the argument. Arguments are optional; that is, a function may contain no arguments. Also arguments can have default values.\n",
    "- **Function Body** - The function body contains a collection of statements that defines what the function does.\n",
    "- **Return Value** - The return value of a function is the last expression in the function body to be evaluated.\n",
    "\n",
    "R has many **built-in** functions which can be directly called in the program without defining them first. We can also create and use our own functions referred as **user defined** functions."
   ]
  },
  {
   "cell_type": "markdown",
   "metadata": {},
   "source": [
    "#### Built-in Function\n",
    "\n",
    "Simple examples of built-in functions are seq(), mean(), max(), sum(x), and paste(...) etc. They are directly called by user written programs. "
   ]
  },
  {
   "cell_type": "code",
   "execution_count": null,
   "metadata": {},
   "outputs": [],
   "source": [
    "# Create a sequence of numbers from 32 to 44\n",
    "print(seq(32,44))\n",
    "\n",
    "# Find mean of numbers from 25 to 82.\n",
    "print(mean(25:82))\n",
    "\n",
    "# Find sum of numbers from 41 to 68.\n",
    "print(sum(41:68))"
   ]
  },
  {
   "cell_type": "markdown",
   "metadata": {},
   "source": [
    "#### User-defined Function\n",
    "\n",
    "We can create user-defined functions in R. They are specific to what a user wants and once created they can be used like the built-in functions. Below is an example of how a function is created and used."
   ]
  },
  {
   "cell_type": "code",
   "execution_count": null,
   "metadata": {},
   "outputs": [],
   "source": [
    "# Create a function to print density given mass and volume\n",
    "density <- function(mass, volume) {\n",
    "    d <- mass/volume\n",
    "    return(d)\n",
    "} \n",
    "\n",
    "# Now let's add input values as arguments and call the function\n",
    "density(10, 2)"
   ]
  },
  {
   "cell_type": "markdown",
   "metadata": {},
   "source": [
    "### Variable Scope\n",
    "\n",
    "**Variable scope** refers to which parts of a program a variable can be referenced, or used, from. We must consider scope when using variables in functions. If a variable is created inside a function, it can only be used within that function. These variables have *local scope*. Accessing it outside that function is not possible. However, variables defined outside functiuons can still be accessed within a function, and have a *global scope*. Variables with a global scope cannot be modified inside the function. If you want to modifity that variable's value inside the function, it should be passed in as an argument. \n",
    "\n",
    "Scoping is essential to understanding how information is passed throughout programs in Python.\n",
    "\n",
    "Let's see an example of local versus global scope:"
   ]
  },
  {
   "cell_type": "code",
   "execution_count": null,
   "metadata": {},
   "outputs": [],
   "source": [
    "Qm <- 'Mantle-derived heat flux' # Global scope\n",
    "\n",
    "variables <- function(Qm) {\n",
    "    Qm <- 20 # Local scope\n",
    "    print(Qm)\n",
    "}\n",
    "\n",
    "variables(Qm)"
   ]
  },
  {
   "cell_type": "markdown",
   "metadata": {},
   "source": [
    "In this example, Qm = 'Mantle-derived heat flux' is the global variable and Qm = 20 is the local variable. Since the value of a global variable cannot be modified inside the function, the function prints out \"20\", since this is the value of an argument passed inside the function. "
   ]
  },
  {
   "cell_type": "markdown",
   "metadata": {},
   "source": [
    "## Example\n",
    "\n",
    "Let's tie together the lessons learned in the background section in an example. We will use a function to calculate the steady geotherm of the Earth's crust. We will then change some input values to see how the geotherm changes in the plot. "
   ]
  },
  {
   "cell_type": "code",
   "execution_count": null,
   "metadata": {},
   "outputs": [],
   "source": [
    "# Import library\n",
    "library(tidyverse)"
   ]
  },
  {
   "cell_type": "code",
   "execution_count": null,
   "metadata": {},
   "outputs": [],
   "source": [
    "# Create an array for depth with global scope\n",
    "z <- seq(0, 10000, by=1000)\n",
    "print(z)"
   ]
  },
  {
   "cell_type": "code",
   "execution_count": null,
   "metadata": {},
   "outputs": [],
   "source": [
    "# Write a function called \"geotherm_1\", which takes inputs of Ts, Qm, and k, and returns T as a function of z\n",
    "\n",
    "geotherm_1 <- function(Ts, Qm, k) {\n",
    "    return(Ts + (Qm/k)*z)\n",
    "}"
   ]
  },
  {
   "cell_type": "code",
   "execution_count": null,
   "metadata": {},
   "outputs": [],
   "source": [
    "# Now that the function is defined, let's change some of the input variables\n",
    "\n",
    "# Temperature in units of degrees C\n",
    "# Mantle-derived heat flux in units of W/m^2\n",
    "# Thermal conductivity in units of W/m/degree K\n",
    "\n",
    "test_1 <- geotherm_1(Ts = 20, Qm = 0.05, k = 3.5)\n",
    "test_2 <- geotherm_1(Ts = 20, Qm = 0.06, k = 3.5)\n",
    "test_3 <- geotherm_1(Ts = 20, Qm = 0.05, k = 2.5)"
   ]
  },
  {
   "cell_type": "code",
   "execution_count": null,
   "metadata": {},
   "outputs": [],
   "source": [
    "# Import library\n",
    "library(ggplot2)\n",
    "\n",
    "# plot the three test cases\n",
    "t1 <- geom_line(aes(x = test_1, y = z/1000), color = \"blue\")\n",
    "t2 <- geom_line(aes(x = test_2, y = z/1000), color = \"maroon\")\n",
    "t3 <- geom_line(aes(x = test_3, y = z/1000), color = \"green\")\n",
    "labs <- labs(x = \"Temperature (C)\", y = \"Depth (km)\", title = \"The Steady Geotherm\")\n",
    "theme <- theme(title = element_text(size = 16,face=\"bold\"), # format title\n",
    "        axis.text.x = element_text(color = \"black\", size=14), # format x-axis \n",
    "        axis.text.y = element_text(color = \"black\", size=14)) # format y-axis\n",
    "ggplot() + t1 + t2 + t3 + labs + theme + scale_y_reverse()"
   ]
  },
  {
   "cell_type": "markdown",
   "metadata": {},
   "source": [
    "Instead of calling the function multiple times as was done with test_1, test_2, and test_3 above, we can employ a **mapping function** to loop through a series of input values (similar to a for loop, but with less lines of code). \n",
    "\n",
    "Let's create a sequence for Qm, where Qm is increasing by 0.01 between 0.02 and 0.06, giving us 5 different Qm values while keeping the other two variables constant. The function ```pmap``` will allow us to use an arbitary number of arguments in our mapping function. We will generate 5 seperate lists as the function repeats itself with each of the 5 different Qm values at each depth interval."
   ]
  },
  {
   "cell_type": "code",
   "execution_count": null,
   "metadata": {},
   "outputs": [],
   "source": [
    "# Import library\n",
    "library(tidyverse)\n",
    "\n",
    "# Assign values to arguments\n",
    "Ts <- c(rep(1, 5))\n",
    "Qm <- c(seq(0.02, 0.06, by = 0.01))\n",
    "k <- c(rep(3.5, 5))\n",
    "\n",
    "# Employ pmap function over the predefined lists: Ts, Qm, and k, which are arguments to the function geotherm_1\n",
    "test_4 <- pmap(list(Ts, Qm, k), geotherm_1)\n",
    "\n",
    "test_4"
   ]
  },
  {
   "cell_type": "markdown",
   "metadata": {},
   "source": [
    "Plotting this might be more difficult than it's worth. Let's try solving our objective a different away and take advantage of R's capability to run everything as a vector. We'll write a new function ```geotherm_2``` that pulls z into the arguments for our geotherm calculation. Then we will calculate the geotherm for each combination of the parameters (including z!)."
   ]
  },
  {
   "cell_type": "code",
   "execution_count": null,
   "metadata": {},
   "outputs": [],
   "source": [
    "# Write new function called \"geotherm_2\"\n",
    "geotherm_2 <- function(Ts, Qm, k, z) {\n",
    "    return(Ts + (Qm/k)*z)\n",
    "}\n",
    "\n",
    "# Create tibble called \"args\" to define arguments and their values\n",
    "args <- \n",
    "  tibble(\n",
    "    Ts = rep(1, 5),\n",
    "    Qm = seq(0.02, 0.06, by = 0.01),\n",
    "    k = rep(3.5, 5)\n",
    "  ) \n",
    "\n",
    "# Use piping to add z values to the tibble\n",
    "args_w_depths <- args %>% crossing(z = seq(0, 10000, by = 2500))\n",
    "\n",
    "# Run geotherm_2 over the new tibble with depth included; add result to tibble\n",
    "geotherms <- args_w_depths %>% \n",
    "  mutate(\n",
    "    T = geotherm_2(Ts, Qm, k, z)\n",
    "  )\n",
    "\n",
    "# Print result\n",
    "geotherms"
   ]
  },
  {
   "cell_type": "code",
   "execution_count": null,
   "metadata": {},
   "outputs": [],
   "source": [
    "# Now let's plot!\n",
    "\n",
    "# sprintf returns a character vector containing a formatted combination of text and variable values\n",
    "geotherms %>%\n",
    "  mutate(\n",
    "    scenario = sprintf(\"Qm = %.2f, Ts = %.1fC, k = %.1f\", Qm, Ts, k)\n",
    "  ) %>%\n",
    "\n",
    "ggplot() +\n",
    "  geom_line(aes(x = T, y = z/1000, color = scenario)) +\n",
    "    labs(x = \"Temperature (C)\", y = \"Depth (km)\", title = \"The Steady Geotherm with Varying Qm\") +\n",
    "    theme(title = element_text(size = 16,face=\"bold\"), \n",
    "        axis.text.x = element_text(color = \"black\", size=14), \n",
    "        axis.text.y = element_text(color = \"black\", size=14)) + \n",
    "        scale_y_reverse() \n",
    "options(repr.plot.width = 10, repr.plot.height = 8) "
   ]
  },
  {
   "cell_type": "markdown",
   "metadata": {},
   "source": [
    "## Questions\n",
    "\n",
    "It's your turn to solve  geotherm problems and write functions. Complete the questions below, using skills you have learned in the present notebook:"
   ]
  },
  {
   "cell_type": "markdown",
   "metadata": {},
   "source": [
    "1. Calculate the geotherm of the Earth's crust with a $Q_m$ of 0.05 $W/m^2$, $k$ of 3.5  $W/m^\\circ K$, and a varying surface temperature. Consider five surface temperatures of your choice. Compare the geotherms by plotting them in a single figure. Make sure your temperature selections produce reasonably different geotherms (as in they don't overlap in the plot)."
   ]
  },
  {
   "cell_type": "code",
   "execution_count": null,
   "metadata": {},
   "outputs": [],
   "source": [
    "# code for Q1"
   ]
  },
  {
   "cell_type": "code",
   "execution_count": null,
   "metadata": {},
   "outputs": [],
   "source": [
    "# code for Q1"
   ]
  },
  {
   "cell_type": "code",
   "execution_count": null,
   "metadata": {},
   "outputs": [],
   "source": [
    "# code for Q1"
   ]
  },
  {
   "cell_type": "markdown",
   "metadata": {},
   "source": [
    "2. How does average surface temperature impact the geothermal gradient in the Earth's crust? Provide one example of a subsurface process that might be influenced by rising surface temperatures."
   ]
  },
  {
   "cell_type": "code",
   "execution_count": null,
   "metadata": {},
   "outputs": [],
   "source": [
    "# code for Q2"
   ]
  },
  {
   "cell_type": "markdown",
   "metadata": {},
   "source": [
    "3. Repeat question 1, but instead hold $\\overline{Ts}$ and $Q_m$ constant; vary $k$ between 2-4 $W/m^\\circ K$. Compare and contrast this plot with the example plot, where Qm varied. Make sure to comment about the trend of the temperature profiles."
   ]
  },
  {
   "cell_type": "code",
   "execution_count": null,
   "metadata": {},
   "outputs": [],
   "source": [
    "# code for Q3"
   ]
  },
  {
   "cell_type": "code",
   "execution_count": null,
   "metadata": {},
   "outputs": [],
   "source": [
    "# code for Q3"
   ]
  },
  {
   "cell_type": "code",
   "execution_count": null,
   "metadata": {},
   "outputs": [],
   "source": [
    "# code for Q3"
   ]
  },
  {
   "cell_type": "markdown",
   "metadata": {},
   "source": [
    "## Congratulations! You have finished the exercise."
   ]
  },
  {
   "cell_type": "markdown",
   "metadata": {},
   "source": [
    "## References:\n",
    "\n",
    "- Anderson, R. Geomachanics Notes 1 - Heat bundled; Chapter 5: The heat equation and steady problems: the geotherm.\n",
    "\n",
    "- https://www.tutorialspoint.com/r/r_functions.htm"
   ]
  },
  {
   "cell_type": "code",
   "execution_count": null,
   "metadata": {},
   "outputs": [],
   "source": []
  }
 ],
 "metadata": {
  "kernelspec": {
   "display_name": "R",
   "language": "R",
   "name": "ir"
  },
  "language_info": {
   "codemirror_mode": "r",
   "file_extension": ".r",
   "mimetype": "text/x-r-source",
   "name": "R",
   "pygments_lexer": "r",
   "version": "4.0.2"
  }
 },
 "nbformat": 4,
 "nbformat_minor": 4
}

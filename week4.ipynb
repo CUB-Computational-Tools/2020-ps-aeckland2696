{
 "cells": [
  {
   "cell_type": "markdown",
   "metadata": {},
   "source": [
    "# The Steady Geotherm and Functions\n",
    "\n",
    "#### By: Abby Eckland\n",
    "#### Draft Problem Set (Week 4)"
   ]
  },
  {
   "cell_type": "markdown",
   "metadata": {},
   "source": [
    "## Learning Goals\n",
    "\n",
    "#### After completing this exercise, you will be able to...\n",
    "##### ***Programming goals:*** \n",
    "\n",
    "1) Learn the basics of functions in Python, including defining functions, variable scope, and documentation.\n",
    "\n",
    "2) Practice executing functions to solve problems pertaining to the geothermal gradient in the Earth's crust.\n",
    "\n",
    "##### ***Learning goals:***\n",
    "\n",
    "1) Describe what the steady geotherm is and what controls the steady temperature profile in the Earth's crust. \n",
    "\n",
    "2) Determine how the geotherm changes as average temperature at the surface, among other controls, change."
   ]
  },
  {
   "cell_type": "markdown",
   "metadata": {},
   "source": [
    "## Prerequisites\n",
    "\n",
    "##### ***Programming prerequisites:*** \n",
    "Students should have some prior experience executing Python code and working with numpy arrays. No prior knowledge about functions is required.\n",
    "\n",
    "##### ***Learning prerequesites:***\n",
    "Students should have completed an introductory geology course."
   ]
  },
  {
   "cell_type": "markdown",
   "metadata": {},
   "source": [
    "## Lesson Background\n",
    "\n",
    "This lesson will go over what governs the temperature profile in the Earth's crust. It is important to constrain the temperature profile within the near-surface Earth in order to interpret exhumation histories from thermochronology, for predicting the depth of permafrost, and may be able to deduce the temperature history of the Earth's surface. It turns out, many near-surface processes are driven by changes in temperature. \n",
    "\n",
    "We will not be deriving the steady geotherm equation together, but note that the following equation denotes the steady geotherm:\n",
    "\n",
    "$$T = \\overline{T_s} + \\frac{Q_m}{k}*z$$\n",
    "\n",
    "where $\\overline{T_s}$ is the average temperature at the surface in $^\\circ C$, $Q_m$ is the mantle-derived heat flux in $W/m^2$, $k$ is the thermal conductivity in $W/m^\\circ K$, and $z$ is depth in meters.\n",
    "\n",
    "By steady state, we mean that the rate of temperature change with depth is not changing, and the only heat source is the mantle-derived heat flux. Heat generated from radioactive decay is not included in this equation. Therefore, the temperature profiles we calculate and plot will all be linear with respect to depth. The $\\frac{Q_m}{k}$ part of the equation essentially represents the slope of the geotherm and describes the temperature gradient in $\\frac{^\\circ C}{m}$."
   ]
  },
  {
   "cell_type": "markdown",
   "metadata": {},
   "source": [
    "## Programming Background\n",
    "\n",
    "**Functions** are a useful tool in programming where we can take what we already know how to do and put it in a container that allows us to use it again and again. Functions are quite simple. We will go over the parts of a function next.\n",
    "\n",
    "### Defining Functions\n",
    "\n",
    "#### Function Header\n",
    "\n",
    "A function header is the first line of a **function definition**. It always starts with the keyword \"def\". Then, the **function name** is called, which follows the same naming conventions as variables. Immediately after the function name are *parentheses* which may or may not cinclude arguments separated by commas. **Arguments** are values that are passed in as **inputs** when the function is called, and are used in the function body. The function doesn't always take arguments, and when this is the case, parentheses are left empty. The header always ends with a colon.\n",
    "\n",
    "#### Function Body \n",
    "\n",
    "The rest of the function is contained within the body, where the function does its work. The **body** of a function is the code indented after the header line. within this body, we can refer to the **argument** variables and define new variables, which can only be used within the indented lines. The body will often include a return statement, which is used to send back an **output value** from the function to the statement that called the function. A **return statement** consists of the return keyword followed by an expression that is evaluated to get the output value for the function. If there is no return statement, the function simply returns none. \n",
    "\n",
    "### Variable Scope\n",
    "\n",
    "**Variable scope** refers to which parts of a program a variable can be referenced, or used, from. We must consider scope when using variables in functions. If a variable is created inside a function, it can only be used within that function. These variables have *local scope*. Accessing it outside that function is not possible. However, variables defined outside functiuons can still be accessed within a function, and have a *global scope*. Variables with a global scope can not be modified inside the function. If you want to modifity that variable's value inside the function, it should be passed in as an argument. \n",
    "\n",
    "Scoping is essential to understanding how information is passed throughout programs in Python.\n",
    "\n",
    "### Documentation\n",
    "\n",
    "**Documentation** is used to make code easier to understand and use. Functions are especially readable because they use documentation strings, or docstrings. Docstrings are a type of comment used to explain the purpose of a function, and how it should be used. Docstrings are surrounded by triple quotes. The first line of the docstring is a brief explanation of the function's purpose. If you feel that this is sufficient documentation, you can end the docstring at this point; single line docstrings are perfectly acceptable. However, if you think that a longer description is more appropriate, you can add more linformation after the one-line summary. Docstrings are entirely optional, but are a part of good coding practice."
   ]
  },
  {
   "cell_type": "markdown",
   "metadata": {},
   "source": [
    "## Example\n",
    "\n",
    "Let's tie together the lessons learned in the background section in an example. We will use a function to calculate the steady geotherm of the Earth's crust. We will then change some input values to see how the geotherm changes in the plot. "
   ]
  },
  {
   "cell_type": "code",
   "execution_count": 1,
   "metadata": {},
   "outputs": [],
   "source": [
    "# import packages\n",
    "import numpy as np\n",
    "import matplotlib.pyplot as plt"
   ]
  },
  {
   "cell_type": "code",
   "execution_count": 2,
   "metadata": {},
   "outputs": [
    {
     "name": "stdout",
     "output_type": "stream",
     "text": [
      "[    0  1000  2000  3000  4000  5000  6000  7000  8000  9000 10000 11000\n",
      " 12000 13000 14000 15000 16000 17000 18000 19000 20000 21000 22000 23000\n",
      " 24000 25000 26000 27000 28000 29000]\n"
     ]
    }
   ],
   "source": [
    "# create an array for depth with global scope since we will use the same range of depths for each example\n",
    "z = np.arange(0, 30000, 1000)\n",
    "print(z)"
   ]
  },
  {
   "cell_type": "code",
   "execution_count": 3,
   "metadata": {},
   "outputs": [],
   "source": [
    "# write a function called geotherm, which takes inputs of Ts, Qm, and k, and returns T as a function of z. \n",
    "def geotherm(Ts, Qm, k):\n",
    "    \"\"\"This function calculates the steady temperature \n",
    "    profile of the Earth's crust: the geotherm\"\"\"\n",
    "    return Ts + (Qm/k)*z"
   ]
  },
  {
   "cell_type": "code",
   "execution_count": 4,
   "metadata": {},
   "outputs": [],
   "source": [
    "# now that the function is defined, let's change some of the input variables\n",
    "\n",
    "# temperature in units of degrees C\n",
    "# mantle-derived heat flux in units of W/m^2\n",
    "# thermal conductivity in units of W/m/degree K\n",
    "\n",
    "test_1 = geotherm(Ts = 20, Qm = 0.05, k = 3.5)\n",
    "test_2 = geotherm(Ts = 20, Qm = 0.06, k = 3.5)\n",
    "test_3 = geotherm(Ts = 20, Qm = 0.05, k = 2.5)"
   ]
  },
  {
   "cell_type": "code",
   "execution_count": 5,
   "metadata": {},
   "outputs": [
    {
     "data": {
      "image/png": "[encoded data removed]",
      "text/plain": [
       "<Figure size 432x288 with 1 Axes>"
      ]
     },
     "metadata": {
      "needs_background": "light"
     },
     "output_type": "display_data"
    }
   ],
   "source": [
    "# lets plot the three test cases\n",
    "plt.plot(test_1, z/1000, label = 'control')\n",
    "plt.plot(test_2, z/1000, label = 'increase Qm')\n",
    "plt.plot(test_3, z/1000, label = 'decrease k')\n",
    "plt.legend()\n",
    "plt.title('The Steady Geotherm', size=18)\n",
    "plt.xlabel('Temperature ($^\\circ$C)')\n",
    "plt.ylabel('Depth(km)')\n",
    "plt.gca().invert_yaxis()\n",
    "plt.show()"
   ]
  },
  {
   "cell_type": "markdown",
   "metadata": {},
   "source": [
    "## Questions\n",
    "\n",
    "Now, it's your turn to solve  geotherm problems and write functions. Complete the questions below:"
   ]
  },
  {
   "cell_type": "markdown",
   "metadata": {},
   "source": [
    "1. Calculate the geotherm of the Earth's crust with a $Q_m$ of 0.05 $W/m^2$, $k$ of 3.5  $W/m^\\circ K$, and a varying surface temperature. Consider three surface temperatures of your choice. Compare the three geotherms by plotting them in a single figure."
   ]
  },
  {
   "cell_type": "code",
   "execution_count": null,
   "metadata": {},
   "outputs": [],
   "source": [
    "# code for Q1"
   ]
  },
  {
   "cell_type": "code",
   "execution_count": 6,
   "metadata": {},
   "outputs": [],
   "source": [
    "# code for Q1"
   ]
  },
  {
   "cell_type": "code",
   "execution_count": 7,
   "metadata": {},
   "outputs": [],
   "source": [
    "# code for Q1"
   ]
  },
  {
   "cell_type": "markdown",
   "metadata": {},
   "source": [
    "2. How does average surface temperature impact the geothermal gradient in the Earth's crust? What are some examples of processes that might be influenced by rising surface temperatures on Earth?"
   ]
  },
  {
   "cell_type": "code",
   "execution_count": 8,
   "metadata": {},
   "outputs": [],
   "source": [
    "# code for Q2"
   ]
  },
  {
   "cell_type": "markdown",
   "metadata": {},
   "source": [
    "3. Repeat question 1, but instead:\n",
    "- hold $\\overline{Ts}$ and $k$ constant; vary $Q_m$ between 0.02-0.05 $W/m^2$. \n",
    "- hold $\\overline{Ts}$ and $Q_m$ constant; vary $k$ between 2-4 $W/m^\\circ K$."
   ]
  },
  {
   "cell_type": "code",
   "execution_count": null,
   "metadata": {},
   "outputs": [],
   "source": [
    "# code for Q3 step 1"
   ]
  },
  {
   "cell_type": "code",
   "execution_count": null,
   "metadata": {},
   "outputs": [],
   "source": [
    "# code for Q3 step 1"
   ]
  },
  {
   "cell_type": "code",
   "execution_count": null,
   "metadata": {},
   "outputs": [],
   "source": [
    "# code for Q3 step 1"
   ]
  },
  {
   "cell_type": "code",
   "execution_count": null,
   "metadata": {},
   "outputs": [],
   "source": [
    "#code for Q3 step 2"
   ]
  },
  {
   "cell_type": "code",
   "execution_count": null,
   "metadata": {},
   "outputs": [],
   "source": [
    "# code for Q3 step 2"
   ]
  },
  {
   "cell_type": "code",
   "execution_count": 9,
   "metadata": {},
   "outputs": [],
   "source": [
    "# code for Q3 step 2"
   ]
  },
  {
   "cell_type": "markdown",
   "metadata": {},
   "source": [
    "4. What input variables determine the steepness of the geotherm the most and why? Hypothesize why mantle-derived heat flux and thermal conductivity vary from place to place in the first place in a few sentences."
   ]
  },
  {
   "cell_type": "code",
   "execution_count": 10,
   "metadata": {},
   "outputs": [],
   "source": [
    "# code for Q4"
   ]
  },
  {
   "cell_type": "markdown",
   "metadata": {},
   "source": [
    "## Congratulations! You have finished the exercise."
   ]
  },
  {
   "cell_type": "markdown",
   "metadata": {},
   "source": [
    "## References:\n",
    "\n",
    "Anderson, R. Geomachanics Notes 1 - Heat bundled; Chapter 5: The heat equation and steady problems: the geotherm.\n",
    "\n",
    "Udacity, Introduction to Python, Lesson 5: Functions (https://classroom.udacity.com/courses/ud1110)"
   ]
  },
  {
   "cell_type": "code",
   "execution_count": null,
   "metadata": {},
   "outputs": [],
   "source": []
  }
 ],
 "metadata": {
  "kernelspec": {
   "display_name": "Python 3",
   "language": "python",
   "name": "python3"
  },
  "language_info": {
   "codemirror_mode": {
    "name": "ipython",
    "version": 3
   },
   "file_extension": ".py",
   "mimetype": "text/x-python",
   "name": "python",
   "nbconvert_exporter": "python",
   "pygments_lexer": "ipython3",
   "version": "3.7.7"
  }
 },
 "nbformat": 4,
 "nbformat_minor": 4
}

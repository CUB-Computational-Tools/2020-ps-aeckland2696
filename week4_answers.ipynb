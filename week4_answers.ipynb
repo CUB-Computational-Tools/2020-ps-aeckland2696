{
 "cells": [
  {
   "cell_type": "markdown",
   "metadata": {},
   "source": [
    "# Week 4 Answer Key:\n",
    "\n",
    "### The Steady Geotherm and Functions\n",
    "#### By: Abby Eckland"
   ]
  },
  {
   "cell_type": "markdown",
   "metadata": {},
   "source": [
    "## Questions\n",
    "\n",
    "1. Calculate the geotherm of the Earth's crust with a $Q_m$ of 0.05 $W/m^2$, $k$ of 3.5  $W/m^\\circ K$, and a varying surface temperature. Consider five surface temperatures of your choice. Compare the geotherms by plotting them in a single figure. Make sure your temperature selections produce reasonably different geotherms (as in they don't overlap in the plot).\n",
    "\n",
    "2. How does average surface temperature impact the geothermal gradient in the Earth's crust? Provide one example of a subsurface process that might be influenced by rising surface temperatures.\n",
    "\n",
    "3. Repeat question 1, but instead hold $\\overline{Ts}$ and $Q_m$ constant; vary $k$ between 2-4 $W/m^\\circ K$. Compare and contrast this plot with the example plot, where Qm varied. Make sure to comment about the trend of the temperature profiles."
   ]
  },
  {
   "cell_type": "markdown",
   "metadata": {},
   "source": [
    "# Answers"
   ]
  },
  {
   "cell_type": "markdown",
   "metadata": {},
   "source": [
    "#### Question 1 Answer:"
   ]
  },
  {
   "cell_type": "code",
   "execution_count": null,
   "metadata": {},
   "outputs": [],
   "source": [
    "# import packages\n",
    "import numpy as np\n",
    "import matplotlib.pyplot as plt"
   ]
  },
  {
   "cell_type": "code",
   "execution_count": null,
   "metadata": {},
   "outputs": [],
   "source": [
    "# write a function called geotherm, which takes inputs of Ts, Qm, and k, and returns T as a function of z. \n",
    "def geotherm(Ts, Qm, k):\n",
    "    \"\"\"This function calculates the steady temperature \n",
    "    profile of the Earth's crust: the geotherm\"\"\"\n",
    "    return Ts + (Qm/k)*z"
   ]
  },
  {
   "cell_type": "code",
   "execution_count": null,
   "metadata": {},
   "outputs": [],
   "source": [
    "# assign values to arguments\n",
    "Ts = [-20, -10, 0, 10, 20]\n",
    "Qm = [0.05]*5\n",
    "k = [3.5]*5\n",
    "z = np.arange(0, 11000, 1000)\n",
    "# call map function\n",
    "geotherm_vary_Ts = list(map(geotherm, Ts, Qm, k))"
   ]
  },
  {
   "cell_type": "code",
   "execution_count": null,
   "metadata": {},
   "outputs": [],
   "source": [
    "# plot the geotherm as a function of surface temperature\n",
    "fig, ax = plt.subplots(figsize = (6,8))\n",
    "plt.plot(geotherm_vary_Ts[0], z/1000, label = 'Ts = -20')\n",
    "plt.plot(geotherm_vary_Ts[1], z/1000, label = 'Ts = -10')\n",
    "plt.plot(geotherm_vary_Ts[2], z/1000, label = 'Ts = 0')\n",
    "plt.plot(geotherm_vary_Ts[3], z/1000, label = 'Ts = 10')\n",
    "plt.plot(geotherm_vary_Ts[4], z/1000, label = 'Ts = 20')\n",
    "plt.title('The Steady Geotherm with Varying Ts', size = 18)\n",
    "plt.xlabel('Temperature ($^\\circ$C)')\n",
    "plt.ylabel('Depth (km)')\n",
    "plt.ylim(0,10)\n",
    "plt.legend()\n",
    "plt.gca().invert_yaxis()"
   ]
  },
  {
   "cell_type": "markdown",
   "metadata": {},
   "source": [
    "#### Question 2 Answer:\n",
    "\n",
    "The average surface temperature at the surface of the Earth impacts the temperature within the shallow subsurface, as seen in the plot above. Changing the average surface temperature, such as through global warming, could have dire consequences for chemical, biologic, and geologic processes that take place near the surface. One example is permafrost. If temperatures on the Earth's surface warm, this warming would penetrate into the subsurface and cause permafrost that has been frozen for a very long time to melt, which would subsequently influence biological and chemical processes within the subsurface and even the Earth's atmosphere. (Answers can range, creativity is encouraged). "
   ]
  },
  {
   "cell_type": "markdown",
   "metadata": {},
   "source": [
    "#### Question 3 Answers:"
   ]
  },
  {
   "cell_type": "code",
   "execution_count": null,
   "metadata": {},
   "outputs": [],
   "source": [
    "# assign values to arguments\n",
    "Ts = [0]*5\n",
    "Qm = [0.05]*5\n",
    "k = [2, 2.5, 3, 3.5, 4]*5\n",
    "z = np.arange(0, 11000, 1000)\n",
    "# call map function\n",
    "geotherm_vary_Ts = list(map(geotherm, Ts, Qm, k))"
   ]
  },
  {
   "cell_type": "code",
   "execution_count": null,
   "metadata": {},
   "outputs": [],
   "source": [
    "# plot the geotherm as a function of surface temperature\n",
    "fig, ax = plt.subplots(figsize = (6,8))\n",
    "plt.plot(geotherm_vary_Ts[0], z/1000, label = 'k = 2')\n",
    "plt.plot(geotherm_vary_Ts[1], z/1000, label = 'k = 2.5')\n",
    "plt.plot(geotherm_vary_Ts[2], z/1000, label = 'k = 3')\n",
    "plt.plot(geotherm_vary_Ts[3], z/1000, label = 'k = 3.5')\n",
    "plt.plot(geotherm_vary_Ts[4], z/1000, label = 'k = 4')\n",
    "plt.title('The Steady Geotherm with Varying Conductivity', size = 18)\n",
    "plt.xlabel('Temperature ($^\\circ$C)')\n",
    "plt.ylabel('Depth (km)')\n",
    "plt.ylim(0,10)\n",
    "plt.legend()\n",
    "plt.gca().invert_yaxis()"
   ]
  },
  {
   "cell_type": "markdown",
   "metadata": {},
   "source": [
    "**Question 3 Short Answer:** The plots with varying mantle heat flux and conductivity are similar in that all the temperature profiles begin at the same temperature and the signal propagates at depth at different slopes. The difference between the two plots, however, is that for a linearly increasing mantle heat flux (Qm), the temperature increases linearly as well. Contrastingly, as conductivity (k) increases at a steady rate, temperature increases at a non-steady rate, such that as k increases linearly, temperature increases non-linearly. This is because in the equation, k is located in the denominator, and Qm in the numberator. "
   ]
  },
  {
   "cell_type": "code",
   "execution_count": null,
   "metadata": {},
   "outputs": [],
   "source": []
  }
 ],
 "metadata": {
  "kernelspec": {
   "display_name": "Python 3",
   "language": "python",
   "name": "python3"
  },
  "language_info": {
   "codemirror_mode": {
    "name": "ipython",
    "version": 3
   },
   "file_extension": ".py",
   "mimetype": "text/x-python",
   "name": "python",
   "nbconvert_exporter": "python",
   "pygments_lexer": "ipython3",
   "version": "3.7.7"
  }
 },
 "nbformat": 4,
 "nbformat_minor": 4
}

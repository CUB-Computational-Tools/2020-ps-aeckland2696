{
 "cells": [
  {
   "cell_type": "markdown",
   "metadata": {},
   "source": [
    "# **Wave Fundamentals**\n",
    "\n",
    "#### By: Abby Eckland\n",
    "#### Final Problem Set (Week 1)"
   ]
  },
  {
   "cell_type": "markdown",
   "metadata": {},
   "source": [
    "## Learning Goals\n",
    "\n",
    "#### After completing this exercise, you will be able to...\n",
    "1) Determine wave quantities such as frequency, period, wavelength, and speed from verbal descriptions and diagrams of physical situations pertaining to waves.\n",
    "\n",
    "2) Identify and describe wave features on a diagram including amplitude, trough, crest, and rest position.\n",
    "\n",
    "3) Apply the wave equation to solve wave fundamental problems for variables such as frequency, speed, and wavelength.\n",
    "\n",
    "4) Practice writing and executing Python code using Jupyter Notebooks."
   ]
  },
  {
   "cell_type": "markdown",
   "metadata": {},
   "source": [
    "## Background\n",
    "\n",
    "\n",
    "#### Frequency and Period\n",
    "A wave is an example of periodic motion. The particles of the medium oscillate back and forth about a fixed position. The time it takes for such a particle to complete one full cycle is known as the ***period***. A period is measured in units of time (e.g., seconds, minutes, hours, etc.). The ***frequency*** of a wave describes the number of complete cycles that are completed during a given period of time. As such, frequency is a rate quantity which describes the rate of oscillations or vibrations or cycles or waves on a per second basis. A common unit of frequency is the Hertz, abbreviated as Hz. A Hertz indicates the number of complete cyles per second.\n",
    "\n",
    "There is a mathematical relationship between the frequency $(f)$ of the wave and the period $(T)$ of the wave as denoted by the following relationship:\n",
    "\n",
    "$$f = 1 / T$$\n",
    "\n",
    "Knowing frequency allows one to automatically calculate the period, and vice versa.\n",
    "\n",
    "#### Wave Speed\n",
    "Waves propagate through a medium. The familiar pattern of the sine wave consists of a ***crest*** and a ***trough***. The crest can be seen moving along the medium from one location to another location. The ***speed*** (or velocity) of a wave is defined as the distance a crest on the wave travels per unit of time. Like the speed of a runner or a car, wave speed $(v)$ is simply the ratio of the distance $(d)$ traveled per time of travel $(t)$ as shown by the following equation:\n",
    "\n",
    "$$v = d / t$$\n",
    "\n",
    "#### The Anatomy of a Wave\n",
    "Imagine a wave moving through a medium such as a rope or slinky. And then imagine that a snapshot could be taken at an instant in time, thus freezing the motion of the wave and providing a picture of the shape of the medium. The result would be a diagram similar to that below (of course, without all the labels). \n",
    "\n",
    "The labels have been added to indicate a few strategic points. The dashed line which stretches horizontally across the middle of the pattern is known as the ***rest position***. The points labeled crests are at the points of maximum displacement above the rest position; the troughs are at the points of maximum displacement below the rest position. The vertical distance from a crest to the rest position is known as the ***amplitude***. The vertical distance between the crest and the trough of a wave is known as the ***wave height***. And the horizontal distance stretching between any two adjacent crests (or between adjacent troughs) is known as the ***wavelength***."
   ]
  },
  {
   "cell_type": "markdown",
   "metadata": {},
   "source": [
    "![Wave Anatomy](data/wave_anatomy.jpg)"
   ]
  },
  {
   "cell_type": "markdown",
   "metadata": {},
   "source": [
    "#### The Wave Equation\n",
    "There is a mathematical relationship between the speed or velocity $(v)$ of a wave and the frequency $(f)$ and wavelength $(λ)$ of the wave. That relationship is expressed by the wave equation:\n",
    "\n",
    "$$v = f * λ$$\n",
    "\n",
    "Knowledge of two of the three quantities allows one to calculate the third quantity."
   ]
  },
  {
   "cell_type": "markdown",
   "metadata": {},
   "source": [
    "## Examples\n",
    "\n",
    "#### Now let's practice a few wave problems together!\n",
    "\n",
    "**Ex. Problem 1:** \n",
    "\n",
    "A tsunami generated off the coast of Chile in 1990 is estimated to have traveled approximately 6200 miles to Hawaii in 15 hours. Determine the speed in mi/hr and m/s. (Given: 1.0 m/s = 2.24 mi/hr)\n",
    "\n",
    "**Ex. Solution 1:**"
   ]
  },
  {
   "cell_type": "code",
   "execution_count": null,
   "metadata": {},
   "outputs": [],
   "source": [
    "# create variables for what we know\n",
    "d = 6200 # distance in miles\n",
    "t = 15 # time in hours\n",
    "v = d/t\n",
    "print(round(v,2), \"mi/hr\") # use round function to round to the hundreths place\n",
    "\n",
    "# v is in units of miles/hour, let's convert to m/s\n",
    "v_m_s = v/2.24\n",
    "print(round(v_m_s,2), \"m/s\")"
   ]
  },
  {
   "cell_type": "markdown",
   "metadata": {},
   "source": [
    "**Ex. Problem 2:**\n",
    "\n",
    "Nick and Ally were lounging on rafts in the shallow waters of the beach at Lake Bluebird. They were spaced 1.8 meters apart. A motor boat zoomed past creating ripples which traveled towards Nick and Ally. Nick and Ally's rafts began to bob up and down as the ripples passed by them, making exactly 4 up and down cycles in 8.4 seconds. When Nick's raft was at a high point, Ally's raft was at a low point and there were no crests between their boats. Determine the wavelength, frequency and speed of the ripples Assume that the ripples traveled in a direction parallel to the imaginary line connecting the two rafts.\n",
    "\n",
    "**Ex. Solution 2:**"
   ]
  },
  {
   "cell_type": "code",
   "execution_count": null,
   "metadata": {},
   "outputs": [],
   "source": [
    "# let's set up a dictionary with known variables and then preview it:\n",
    "ripple_vars = dict()\n",
    "text = [\"distance btwn N & A\", \"cycles\", \"time\"]\n",
    "vals = [1.8, 4, 8.4]\n",
    "ripple_vars = dict(zip(text, vals)) # zip lists together\n",
    "print(ripple_vars)\n",
    "\n",
    "# first step: calcualte the frequency (f)\n",
    "f = ripple_vars[\"cycles\"]/ripple_vars[\"time\"]\n",
    "print(round(f,2), \"= frequency (Hz)\")\n",
    "\n",
    "# second step: calculate the wavelength (wl)\n",
    "λ = ripple_vars[\"distance btwn N & A\"]*2 # multiply by 2 since distance between N & A is half a wavelength (see prompt)\n",
    "print(λ, \"= wavelength (m)\")\n",
    "\n",
    "# third and final step: calculate the speed (v)\n",
    "v = f * λ\n",
    "print(round(v, 2), \"= speed (m/s)\")"
   ]
  },
  {
   "cell_type": "markdown",
   "metadata": {},
   "source": [
    "## Questions\n",
    "\n",
    "Now it's your turn to solve some wave fundamental problems on your own. Let's start by building off of Problem 1 above.\n",
    "\n",
    "**Goal:** \n",
    "\n",
    "Calculate the wavelength of the 1990 tsunami (recall Problem 1). \n",
    "\n",
    "**Steps:**\n",
    "\n",
    "1) Draw a picture illustrating what variables you know (distance, time, speed) and what you need to determine.\n",
    "\n",
    "2) Convert travel time of the tsunami wave in hours to seconds. 1 hr = 3600 s. \n",
    "\n",
    "3) Calculate the frequency of the tsunami wave in Hz.\n",
    "\n",
    "4) Rearrange the wave equation to solve for $λ$.\n",
    "\n",
    "5) Your result should be pretty big. Convert your answer in meters back to miles. 1 m = 6.214E-4 miles.\n",
    "\n",
    "6) What do you notice about the wavelength? "
   ]
  },
  {
   "cell_type": "code",
   "execution_count": null,
   "metadata": {},
   "outputs": [],
   "source": [
    "# draw step 1 on a seperate piece of paper"
   ]
  },
  {
   "cell_type": "code",
   "execution_count": null,
   "metadata": {},
   "outputs": [],
   "source": [
    "# your work for step 2 goes here"
   ]
  },
  {
   "cell_type": "code",
   "execution_count": null,
   "metadata": {},
   "outputs": [],
   "source": [
    "# step 3"
   ]
  },
  {
   "cell_type": "code",
   "execution_count": null,
   "metadata": {},
   "outputs": [],
   "source": [
    "# step 4"
   ]
  },
  {
   "cell_type": "code",
   "execution_count": null,
   "metadata": {},
   "outputs": [],
   "source": [
    "# step 5"
   ]
  },
  {
   "cell_type": "code",
   "execution_count": null,
   "metadata": {},
   "outputs": [],
   "source": [
    "# step 6"
   ]
  },
  {
   "cell_type": "markdown",
   "metadata": {},
   "source": [
    "## You've reached the end of the lesson. Great work!"
   ]
  },
  {
   "cell_type": "markdown",
   "metadata": {},
   "source": [
    "## References and additional material\n",
    "https://www.sciencelearn.org.nz/resources/119-fundamentals-of-waves#:~:text=All%20kinds%20of%20waves%20have,%2C%20frequency%2C%20speed%20and%20amplitude.&text=A%20wave%20can%20be%20described,a%20disturbance%20that%20transfers%20energy.\n",
    "\n",
    "https://www.physicsclassroom.com/calcpad/waves"
   ]
  }
 ],
 "metadata": {
  "kernelspec": {
   "display_name": "Python 3",
   "language": "python",
   "name": "python3"
  },
  "language_info": {
   "codemirror_mode": {
    "name": "ipython",
    "version": 3
   },
   "file_extension": ".py",
   "mimetype": "text/x-python",
   "name": "python",
   "nbconvert_exporter": "python",
   "pygments_lexer": "ipython3",
   "version": "3.7.7"
  }
 },
 "nbformat": 4,
 "nbformat_minor": 4
}

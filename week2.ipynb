{
 "cells": [
  {
   "cell_type": "markdown",
   "metadata": {},
   "source": [
    "# Radiation: Absorption within translucent materials\n",
    "\n",
    "#### By: Abby Eckland\n",
    "#### Draft Problem Set (Week 2)"
   ]
  },
  {
   "cell_type": "markdown",
   "metadata": {},
   "source": [
    "## Learning Goals\n",
    "\n",
    "#### After completing this exercise, you will be able to...\n",
    "\n",
    "1) Create tibble data structures and use them to visualize data.\n",
    "\n",
    "2) Interpret how incoming radiation and the attenuation coefficient influence how radiation penetrates into a translucent medium.\n",
    "\n",
    "3) Determine which variable most influences light attenuation in a lake. "
   ]
  },
  {
   "cell_type": "markdown",
   "metadata": {},
   "source": [
    "## Background\n",
    "\n",
    "#### Radiation\n",
    "\n",
    "**Radiation** is defined as the emission of energy as electromagnetic waves or as moving subatomic particles. Radiation governs the mean annual surface temperature of the Earth. This lesson focuses on how radiation interacts with a medium that is neither perfectly reflective, nor perfectly opaque (e.g., a rock). These materials are referred to as ***translucent***. Translucent materials absorb a fraction of the radiation as it passes through, leaving less that travels yet furter into the medium. "
   ]
  },
  {
   "cell_type": "markdown",
   "metadata": {},
   "source": [
    "#### Beer-Lambert Law\n",
    "\n",
    "The Beer-Lambert Law formalizes the mathematical treatment of the attenuation of radiation. The equation will not be derived in this activity, but is simply provided below  (eq. 1): \n",
    "\n",
    "$$ I = I_o e ^{-\\mu z}$$\n",
    "\n",
    "where a material receives light or radiation at a flux of $I_o$, in units of $W/m^2$, at a specific depth z, in meters, with an attenuation factor $\\mu$. See Figure 1 below for an illustration of light attenuation into a translucent medium."
   ]
  },
  {
   "cell_type": "markdown",
   "metadata": {},
   "source": [
    "![Illustration of the Beer-Lambert Law](data/beer-lambert_law.jpg)"
   ]
  },
  {
   "cell_type": "markdown",
   "metadata": {},
   "source": [
    "## Example"
   ]
  },
  {
   "cell_type": "markdown",
   "metadata": {},
   "source": [
    "Now let's try an example problem using a tibble data structure in R. \n",
    "\n",
    "**Question:** If the incoming radiation to a lake with an attenuation coefficient of 0.25 is 500 $W/m^2$, what is the radiation (in $W/m^2$) remaining at a depth of 50 meters? Plot how much radiation attenuates every 10 meters."
   ]
  },
  {
   "cell_type": "code",
   "execution_count": null,
   "metadata": {},
   "outputs": [],
   "source": [
    "library(tidyverse)\n",
    "\n",
    "Lake_attenuation <- tibble(\n",
    "I_o = (500), \n",
    "u = (.25),\n",
    "z = c(10, 20, 30, 40, 50), \n",
    "    \n",
    "I = I_o * exp(-u * z)\n",
    ") \n",
    "\n",
    "print(Lake_attenuation)"
   ]
  },
  {
   "cell_type": "code",
   "execution_count": null,
   "metadata": {},
   "outputs": [],
   "source": [
    "ggplot(data = Lake_attenuation) +\n",
    "    geom_point(mapping = aes(x = I, y = z)) \n",
    "# flip the z access so depth goes down"
   ]
  },
  {
   "cell_type": "markdown",
   "metadata": {},
   "source": [
    "**Answer:** At 50 meters depth, 1.86E-3 $W/m^2$ of radiation remains from the initial 500 $W/m^2$ penetrating the top of the water column."
   ]
  },
  {
   "cell_type": "markdown",
   "metadata": {},
   "source": [
    "# Questions"
   ]
  },
  {
   "cell_type": "markdown",
   "metadata": {},
   "source": [
    "Now it's your turn to solve some light attenuation problems on your own."
   ]
  },
  {
   "cell_type": "markdown",
   "metadata": {},
   "source": [
    "The example problem above assumes a constant incoming radiation and attenuation coefficient. Let's see what happens if we alter one or both of these variables at the same time."
   ]
  },
  {
   "cell_type": "markdown",
   "metadata": {},
   "source": [
    "1) Using the same $I_o$ and u as above, plot $I$ for the first 10 meters below the water surface. Place a point at each meter interval. "
   ]
  },
  {
   "cell_type": "code",
   "execution_count": null,
   "metadata": {},
   "outputs": [],
   "source": [
    "# code for step 1 here"
   ]
  },
  {
   "cell_type": "markdown",
   "metadata": {},
   "source": [
    "2) $I_o$ naturally fluctuates throughout the day as the sun rises and falls. Plot how $I$ changes as $I_o$ varies between 0 and 1250 W/m^2, at intervals of 250. The attenuation coefficient is still 0.25."
   ]
  },
  {
   "cell_type": "code",
   "execution_count": null,
   "metadata": {},
   "outputs": [],
   "source": [
    "# code for step 2 here"
   ]
  },
  {
   "cell_type": "markdown",
   "metadata": {},
   "source": [
    "3) Now let's see how the attenuation coefficient influences radiation penetrating through a translucent medium. Vary $\\mu$ between 0 and 1 at an interval of your choosing and plot the result. Maintain an incoming $I_o$ of 500 $W/m^2$. Include z = 0 in your calculation. "
   ]
  },
  {
   "cell_type": "code",
   "execution_count": null,
   "metadata": {},
   "outputs": [],
   "source": [
    "# code for step 3 here"
   ]
  },
  {
   "cell_type": "markdown",
   "metadata": {},
   "source": [
    "## Congratulations! You have completed the exercise."
   ]
  },
  {
   "cell_type": "code",
   "execution_count": null,
   "metadata": {},
   "outputs": [],
   "source": []
  }
 ],
 "metadata": {
  "kernelspec": {
   "display_name": "R",
   "language": "R",
   "name": "ir"
  },
  "language_info": {
   "codemirror_mode": "r",
   "file_extension": ".r",
   "mimetype": "text/x-r-source",
   "name": "R",
   "pygments_lexer": "r",
   "version": "4.0.2"
  }
 },
 "nbformat": 4,
 "nbformat_minor": 4
}

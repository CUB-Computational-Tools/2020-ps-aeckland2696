{
 "cells": [
  {
   "cell_type": "markdown",
   "metadata": {},
   "source": [
    "# Radiation: Absorption within translucent materials\n",
    "\n",
    "#### By: Abby Eckland\n",
    "#### Final Problem Set (Week 2)"
   ]
  },
  {
   "cell_type": "markdown",
   "metadata": {},
   "source": [
    "## Learning Goals\n",
    "\n",
    "#### After completing this exercise, you will be able to...\n",
    "\n",
    "1) Explain how incoming radiation and attenuation influence the radiative flux at depth in a translucent medium.\n",
    "\n",
    "2) Determine which variable(s) (incoming radiation, attenuation factor, or depth) most influences light attenuation in a lake. \n",
    "\n",
    "3) Build tibble data structures and use them to visualize data."
   ]
  },
  {
   "cell_type": "markdown",
   "metadata": {},
   "source": [
    "## Background\n",
    "\n",
    "#### Radiation\n",
    "\n",
    "**Radiation** is defined as the emission of energy as electromagnetic waves or as moving subatomic particles. Radiation governs the mean annual surface temperature of the Earth. This lesson focuses on how radiation interacts with a medium that is neither perfectly reflective, nor perfectly opaque (e.g., a rock). These materials are referred to as **translucent**. Translucent materials absorb a fraction of the radiation as it passes through, leaving less that travels yet furter into the medium. "
   ]
  },
  {
   "cell_type": "markdown",
   "metadata": {},
   "source": [
    "#### Beer-Lambert Law\n",
    "\n",
    "The Beer-Lambert Law formalizes the mathematical treatment of the attenuation of radiation. The equation will not be derived in this activity, but is simply provided below  (eq. 1): \n",
    "\n",
    "**eq. 1** $$ I(z) = I_o e ^{-\\mu z}$$\n",
    "\n",
    "where $I$ is the radiative flux $(W/m^2)$ as a function of depth. A material receives light or radiation at a flux of $I_o$, in units of $W/m^2$, at a specific depth below the water surface $z$, in meters, with an attenuation factor $\\mu$, in units of $m^{-1}$. See Figure 1 below for an illustration of light attenuation into a translucent medium."
   ]
  },
  {
   "cell_type": "markdown",
   "metadata": {},
   "source": [
    "**Figure 1.** (Anderson, R., Geomechanics Notes I - Heat bundled) ![Illustration of the Beer-Lambert Law](data/beer-lambert_law.jpg)"
   ]
  },
  {
   "cell_type": "markdown",
   "metadata": {},
   "source": [
    "## Example"
   ]
  },
  {
   "cell_type": "markdown",
   "metadata": {},
   "source": [
    "Let's try an example problem using a **tibble** data structure in R. A tibble is a data frame comprised of sets of columns and variables that contain values of data. Tibbles are useful because they are more modern and user-friendly than the R data frame; moreover, they have numerous benefits that we will not get into in this exercise.\n",
    "\n",
    "Tibbles can be used by installing the **library**, or package, called **tidyverse**. Tidyverse is a collection of R packages that are designed for data science.\n",
    "\n",
    "Now we're ready for an example:\n",
    "\n",
    "**Question:** If the incoming radiation (or light) to a lake with an attenuation factor of 0.25 $m^{-1}$ is 500 $W/m^2$, what is the radiative flux (in $W/m^2$) remaining at a depth of 50 meters? Plot how radiation attenuates at 10 meter intervals. What do you notice about the curve, or trend, of the plot?"
   ]
  },
  {
   "cell_type": "code",
   "execution_count": null,
   "metadata": {},
   "outputs": [],
   "source": [
    "# import library\n",
    "library(tidyverse)\n",
    "\n",
    "# build a tibble\n",
    "Lake_attenuation <- tibble( # creates a tibble called Lake_attenuation\n",
    "Io = (500), # sets a constant Io\n",
    "mu = (.25), # sets a constant mu\n",
    "z = seq(from = 10, to = 50, length.out = 5), # creates a sequence where depth increases in 10 meter increments\n",
    "    \n",
    "I = Io * exp(-mu * z) # solves for radiative flux\n",
    ") \n",
    "\n",
    "print(Lake_attenuation) # prints tibble to screen. Note: tibble size, an index column, and data types are automatically provided."
   ]
  },
  {
   "cell_type": "markdown",
   "metadata": {},
   "source": [
    "Now let's make a plot of radiative flux versus depth! We will use the **ggplot** function to declare the input data frame for a graphic and to specify the set of plot aesthetics. "
   ]
  },
  {
   "cell_type": "code",
   "execution_count": null,
   "metadata": {},
   "outputs": [],
   "source": [
    "# import library\n",
    "library(ggplot2)\n",
    "\n",
    "# make a plot\n",
    "plot <- ggplot(Lake_attenuation, aes(x = I, y = -z)) + # make a plot called \"plot\" using data from Lake_attenuation tibble\n",
    "        geom_point(size=4) + # request a scatter plot and specify point size\n",
    "        geom_smooth(formula = y ~ log(x)) + # request a smooth line between the data forced by the log function\n",
    "        labs(title=\"Radiative flux with depth\", x=\"I (W/m2)\", y= \"z (m)\") # add axis labels and plot title\n",
    "theme <- theme(title=element_text(size=16,face=\"bold\"), # format title\n",
    "        axis.text=element_text(size=12), # format axis labels\n",
    "        axis.text.x = element_text(color=\"black\", size=14), # format x-axis \n",
    "        axis.text.y = element_text(color=\"black\", size=14)) # format y-axis\n",
    "# print plot to screen and ignore warning messages\n",
    "suppressWarnings(print(plot + theme)) # print plot and theme to screen"
   ]
  },
  {
   "cell_type": "markdown",
   "metadata": {},
   "source": [
    "Note that negative z was plotted to logically show that radiative flux decreases with depth below the water surface.\n",
    "\n",
    "**Answer:** The radiative flux at 50 meters depth is 1.86E-3 $W/m^2$ with an incoming radiation of 500 $W/m^2$. The curve shows an exponential inverse relationship between radiative flux and depth. $I$ decreases very rapidly between the depths of 10 and 20 meters and then decreases less rapidly as $I$ approaches 0 at 50 meters depth."
   ]
  },
  {
   "cell_type": "markdown",
   "metadata": {},
   "source": [
    "## Questions"
   ]
  },
  {
   "cell_type": "markdown",
   "metadata": {},
   "source": [
    "Now it's your turn to solve some light attenuation problems and build tibbles on your own."
   ]
  },
  {
   "cell_type": "markdown",
   "metadata": {},
   "source": [
    "1) Using the same $I_o$ and $\\mu$ as above, plot $I$ for the first 10 meters below the water surface. Plot a point at each meter interval. What do you notice about the curve, or trend, in comparison with the example plot? "
   ]
  },
  {
   "cell_type": "code",
   "execution_count": null,
   "metadata": {},
   "outputs": [],
   "source": [
    "# code for step 1 tibble "
   ]
  },
  {
   "cell_type": "code",
   "execution_count": null,
   "metadata": {},
   "outputs": [],
   "source": [
    "# code for step 1 plot"
   ]
  },
  {
   "cell_type": "code",
   "execution_count": null,
   "metadata": {},
   "outputs": [],
   "source": [
    "# code for step 1 short answer"
   ]
  },
  {
   "cell_type": "markdown",
   "metadata": {},
   "source": [
    "2) $I_o$ naturally fluctuates throughout the day as the sun rises and falls. Plot how $I$ changes as $I_o$ varies between 0 and 1250 $W/m^2$ at intervals of 250 $W/m^2$. Maintain an attenuation factor of 0.25 $m^{-1}$ and depth of 10 m. Plot $I_o$ on the x-axis and $I$ on the y-axis. What do you notice about the trend?"
   ]
  },
  {
   "cell_type": "code",
   "execution_count": null,
   "metadata": {},
   "outputs": [],
   "source": [
    "# code for step 2 tibble "
   ]
  },
  {
   "cell_type": "code",
   "execution_count": null,
   "metadata": {},
   "outputs": [],
   "source": [
    "# code for step 2 plot"
   ]
  },
  {
   "cell_type": "code",
   "execution_count": null,
   "metadata": {},
   "outputs": [],
   "source": [
    "# code for step 2 short answer"
   ]
  },
  {
   "cell_type": "markdown",
   "metadata": {},
   "source": [
    "3) Now let's see how the attenuation factor influences radiation penetrating through a translucent medium. Vary $\\mu$ between 0 and 1 at an interval of your choosing. Plot the result with $\\mu$ on the x-axis and $I$ on the y-axis. Maintain an incoming $I_o$ of 500 $W/m^2$ and depth of 10 m. What do you notice about the trend?"
   ]
  },
  {
   "cell_type": "code",
   "execution_count": null,
   "metadata": {},
   "outputs": [],
   "source": [
    "# code for step 3 tibble "
   ]
  },
  {
   "cell_type": "code",
   "execution_count": null,
   "metadata": {},
   "outputs": [],
   "source": [
    "# code for step 3 plot"
   ]
  },
  {
   "cell_type": "code",
   "execution_count": null,
   "metadata": {},
   "outputs": [],
   "source": [
    "# code for step 3 short answer"
   ]
  },
  {
   "cell_type": "markdown",
   "metadata": {},
   "source": [
    "## Congratulations! You have completed the exercise."
   ]
  },
  {
   "cell_type": "markdown",
   "metadata": {},
   "source": [
    "## References\n",
    "\n",
    "Anderson, R. Geomachanics Notes 1 - Heat bundled; Chapter 4."
   ]
  }
 ],
 "metadata": {
  "kernelspec": {
   "display_name": "R",
   "language": "R",
   "name": "ir"
  },
  "language_info": {
   "codemirror_mode": "r",
   "file_extension": ".r",
   "mimetype": "text/x-r-source",
   "name": "R",
   "pygments_lexer": "r",
   "version": "4.0.2"
  }
 },
 "nbformat": 4,
 "nbformat_minor": 4
}

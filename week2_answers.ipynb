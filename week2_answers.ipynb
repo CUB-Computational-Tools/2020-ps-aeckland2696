{
 "cells": [
  {
   "cell_type": "markdown",
   "metadata": {},
   "source": [
    "# Week 2 Answer Key: \n",
    "\n",
    "### Radiation: Absorption within translucent materials\n",
    "#### By: Abby Eckland\n",
    "#### Date: 09/09/2020"
   ]
  },
  {
   "cell_type": "markdown",
   "metadata": {},
   "source": [
    "## Questions\n",
    "\n",
    "1) Using the same $I_o$ and $\\mu$ as above, plot $I$ for the first 10 meters below the water surface. Plot a point at each meter interval. What do you notice about the curve, or trend, in comparison with the example plot? \n",
    "\n",
    "2) $I_o$ naturally fluctuates throughout the day as the sun rises and falls. Plot how $I$ changes as $I_o$ varies between 0 and 1250 $W/m^2$ at intervals of 250 $W/m^2$. Maintain an attenuation factor of 0.25 $m^{-1}$ and depth of 10 m. Plot $I_o$ on the x-axis and $I$ on the y-axis. What do you notice about the trend?\n",
    "\n",
    "3) Now let's see how the attenuation factor influences radiation penetrating through a translucent medium. Vary $\\mu$ between 0 and 1 at an interval of your choosing. Plot the result with $\\mu$ on the x-axis and $I$ on the y-axis. Maintain an incoming $I_o$ of 500 $W/m^2$ and depth of 10 m. What do you notice about the trend?"
   ]
  },
  {
   "cell_type": "markdown",
   "metadata": {},
   "source": [
    "## Answers\n",
    "\n",
    "#### Question 1 Answers:"
   ]
  },
  {
   "cell_type": "code",
   "execution_count": null,
   "metadata": {},
   "outputs": [],
   "source": [
    "library(tidyverse)\n",
    "\n",
    "Lake_attenuation_q1 <- tibble( \n",
    "Io = (500), \n",
    "mu = (.25), \n",
    "z = (0:10), # accept other ways to build this sequence\n",
    "    \n",
    "I = Io * exp(-mu * z) \n",
    ") \n",
    "\n",
    "print(Lake_attenuation_q1) "
   ]
  },
  {
   "cell_type": "code",
   "execution_count": null,
   "metadata": {},
   "outputs": [],
   "source": [
    "# import library\n",
    "library(ggplot2)\n",
    "\n",
    "# make a plot and print to screen\n",
    "plot_1 <- ggplot(Lake_attenuation_q1, aes(x = I, y = -z)) + \n",
    "        geom_point(size=4) + \n",
    "        geom_smooth(formula = y ~ log(x)) + \n",
    "        labs(title=\"Radiative flux with depth\", x=\"I (W/m2)\", y= \"z (m)\")\n",
    "theme <- theme(title=element_text(size=16,face=\"bold\"), \n",
    "        axis.text=element_text(size=12), \n",
    "        axis.text.x = element_text(color=\"black\", size=14), \n",
    "        axis.text.y = element_text(color=\"black\", size=14))\n",
    "suppressWarnings(print(plot_1 + theme))"
   ]
  },
  {
   "cell_type": "markdown",
   "metadata": {},
   "source": [
    "**Short answer:** It appears that most of the light is attenuated in the first 10 meters when compared with the example plot. For instance, $I$ starts at 500 $W/m^2$ and decreases to below 100 $W/m^2$ in the first 10 meters. Contrasingly, in the example plot, $I$ decreases from ~40 $W/m^2$ to ~0 $W/m^2$ in a distance of nearly 40 meters."
   ]
  },
  {
   "cell_type": "markdown",
   "metadata": {},
   "source": [
    "#### Question 2 Answers:"
   ]
  },
  {
   "cell_type": "code",
   "execution_count": null,
   "metadata": {},
   "outputs": [],
   "source": [
    "library(tidyverse)\n",
    "\n",
    "Lake_attenuation_q2 <- tibble( \n",
    "Io = seq(from = 0, to = 1250, length.out=6), \n",
    "mu = (.25), \n",
    "z = (10), \n",
    "    \n",
    "I = Io * exp(-mu * z) \n",
    ") \n",
    "\n",
    "print(Lake_attenuation_q2) "
   ]
  },
  {
   "cell_type": "code",
   "execution_count": null,
   "metadata": {},
   "outputs": [],
   "source": [
    "library(ggplot2)\n",
    "\n",
    "plot_2 <- ggplot(Lake_attenuation_q2, aes(x = Io, y = I)) + \n",
    "        geom_point(size=4) + \n",
    "        geom_smooth(formula = y ~ x) + \n",
    "        labs(title=\"Incoming radiation vs. radiative flux (at z = 10m)\", x=\"Io (W/m2)\", y= \"I (W/m2)\")\n",
    "theme <- theme(title=element_text(size=16,face=\"bold\"), \n",
    "        axis.text=element_text(size=12), \n",
    "        axis.text.x = element_text(color=\"black\", size=14), \n",
    "        axis.text.y = element_text(color=\"black\", size=14))\n",
    "suppressWarnings(print(plot_2 + theme))"
   ]
  },
  {
   "cell_type": "markdown",
   "metadata": {},
   "source": [
    "**Short answer:** The trend is linear, so as incoming radiation decreases, radiative flux decreases at the same rate at a constant depth."
   ]
  },
  {
   "cell_type": "markdown",
   "metadata": {},
   "source": [
    "#### Question 3 Answers:"
   ]
  },
  {
   "cell_type": "code",
   "execution_count": null,
   "metadata": {},
   "outputs": [],
   "source": [
    "library(tidyverse)\n",
    "\n",
    "Lake_attenuation_q3 <- tibble( \n",
    "Io = (500), \n",
    "mu = seq(from = 0, to = 1, length.out = 11), \n",
    "z = (10), \n",
    "    \n",
    "I = Io * exp(-mu * z) \n",
    ") \n",
    "\n",
    "print(Lake_attenuation_q3) "
   ]
  },
  {
   "cell_type": "code",
   "execution_count": null,
   "metadata": {},
   "outputs": [],
   "source": [
    "# import library\n",
    "library(ggplot2)\n",
    "\n",
    "# make a plot and print to screen\n",
    "plot_3 <- ggplot(Lake_attenuation_q3, aes(x = mu, y = I)) + \n",
    "        geom_point(size=4) + \n",
    "        geom_smooth(formula = y ~ x) + \n",
    "        labs(title=\"Attenuation coeff. versus radiative flux (z = 10m)\", x=\"Attenuation coefficient (m^-1)\", y= \"I (W/m2)\")\n",
    "theme <- theme(title=element_text(size=16,face=\"bold\"), \n",
    "        axis.text=element_text(size=12), \n",
    "        axis.text.x = element_text(color=\"black\", size=14), \n",
    "        axis.text.y = element_text(color=\"black\", size=14))\n",
    "suppressWarnings(print(plot_3 + theme))"
   ]
  },
  {
   "cell_type": "markdown",
   "metadata": {},
   "source": [
    "**Short answer:** Attenuation factor and radiative flux have an exponential inverse relationship. At 10 meters depth, a small attenuation coefficient yields a very high radiative flux. As attenuation coefficient decreases linearly, radiative flux decreases exponentially. $I$ is essentially 0 with an attenuation coefficient of 1, meaning that no light or radiation can reach a depth of 10 meters. "
   ]
  },
  {
   "cell_type": "code",
   "execution_count": null,
   "metadata": {},
   "outputs": [],
   "source": []
  }
 ],
 "metadata": {
  "kernelspec": {
   "display_name": "R",
   "language": "R",
   "name": "ir"
  },
  "language_info": {
   "codemirror_mode": "r",
   "file_extension": ".r",
   "mimetype": "text/x-r-source",
   "name": "R",
   "pygments_lexer": "r",
   "version": "4.0.2"
  }
 },
 "nbformat": 4,
 "nbformat_minor": 4
}

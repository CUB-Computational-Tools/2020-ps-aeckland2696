{
 "cells": [
  {
   "cell_type": "markdown",
   "metadata": {},
   "source": [
    "# Week 3 Answer Key:\n",
    "\n",
    "### Textural Maturity of Clastic Sedimentary Rocks\n",
    "#### By: Abby Eckland\n",
    "#### Date: 09/16/2020"
   ]
  },
  {
   "cell_type": "markdown",
   "metadata": {},
   "source": [
    "## Questions\n",
    "\n",
    "1. Below two more samples are described. What are their textural maturities?"
   ]
  },
  {
   "cell_type": "code",
   "execution_count": null,
   "metadata": {},
   "outputs": [],
   "source": [
    "sample_2 = {'Mud Content': '<15% (Arenite)', 'Sorting': 'Well sorted', 'Clast Shape': 'Angular to subangular'} # Mature\n",
    "sample_3 = {'Mud Content': '>15% (Wacke)', 'Sorting': 'Poorly sorted', 'Clast Shape': 'Subangular to subrounded'} #Immature"
   ]
  },
  {
   "cell_type": "markdown",
   "metadata": {},
   "source": [
    "2. If a sedimentary rock has rounded clasts, is well sorted, and has >15% mud content, is the rock's textural maturity supermature? If it's not supermature, what is its textural maturity? Explain your reasoning.\n",
    "\n",
    "3. Examine the thin sections of the sedimentary rocks below and determine their textural maturity. Explain your reasoning for each sample."
   ]
  },
  {
   "cell_type": "markdown",
   "metadata": {},
   "source": [
    "## Answers\n",
    "\n",
    "#### Question 1 Answers:"
   ]
  },
  {
   "cell_type": "code",
   "execution_count": null,
   "metadata": {},
   "outputs": [],
   "source": [
    "# conditional statement for sample 2 textural maturity\n",
    "maturity = []\n",
    "if sample_2['Mud Content'] == '>15% (Wacke)':\n",
    "    maturity = 'Immature'\n",
    "elif sample_2['Sorting'] == 'Poorly sorted':\n",
    "    maturity = 'Submature' # this sample should be sub-mature\n",
    "elif 'Angular' or 'angular' in sample_2['Clast Shape']:\n",
    "    maturity = 'Mature'\n",
    "else:\n",
    "    maturity = 'Supermature'\n",
    "print(maturity)"
   ]
  },
  {
   "cell_type": "code",
   "execution_count": null,
   "metadata": {},
   "outputs": [],
   "source": [
    "# conditional statement for sample 3 textural maturity\n",
    "maturity = []\n",
    "if sample_3['Mud Content'] == '>15% (Wacke)':\n",
    "    maturity = 'Immature'\n",
    "elif sample_3['Sorting'] == 'Poorly sorted':\n",
    "    maturity = 'Submature' # this sample should be sub-mature\n",
    "elif 'Angular' or 'angular' in sample_3['Clast Shape']:\n",
    "    maturity = 'Mature'\n",
    "else:\n",
    "    maturity = 'Supermature'\n",
    "print(maturity)"
   ]
  },
  {
   "cell_type": "markdown",
   "metadata": {},
   "source": [
    "#### Question 2 Answer: \n",
    "\n",
    "The rock is not supermature, in fact it is immature because it has a mud content >15%, so the rock is classified as an immature wacke. The textural classification flow chart goes in sequential order, so the rock must satisfy a mud content <15% in order to be considered sub-mature, mature, or even supermature."
   ]
  },
  {
   "cell_type": "markdown",
   "metadata": {},
   "source": [
    "#### Question 3 Answers:"
   ]
  },
  {
   "cell_type": "markdown",
   "metadata": {},
   "source": [
    "**Sample ID 1:** this rock's textural maturity is immature. You can tell by the abundance of matrix material, which makes up >15% of the rock. Other defining characteristics are that the sorting is poor, as there is a mix of large and much smaller clasts; additionally, the grains are subrounded but are not spherical and instead are of a discoid shape. For reference, this is a quartz wacke. "
   ]
  },
  {
   "cell_type": "markdown",
   "metadata": {},
   "source": [
    "**Sample ID 2:** this rock's textural maturity is sub-mature to mature. There is not >15% mud content, so it is not a wacke. The next step in the flow chart is to determine sorting. Sorting could be argued to be well sorted or poorly sorted; thus, this rock's textural maturity could be classified as submature or mature. Since the grains are more angular than rounded, the upper limit of textural maturity is mature. For reference, this rock is an arkosic sandstone."
   ]
  },
  {
   "cell_type": "markdown",
   "metadata": {},
   "source": [
    "**Sample ID 3:** this rock's textural maturity is supermature. There is less than <15% mud content, the grains are well sorted, and the clasts are rounded, therefore it's textural maturity is the most mature option: supermature. For reference, this rock is a quartz sandstone."
   ]
  }
 ],
 "metadata": {
  "kernelspec": {
   "display_name": "Python 3",
   "language": "python",
   "name": "python3"
  },
  "language_info": {
   "codemirror_mode": {
    "name": "ipython",
    "version": 3
   },
   "file_extension": ".py",
   "mimetype": "text/x-python",
   "name": "python",
   "nbconvert_exporter": "python",
   "pygments_lexer": "ipython3",
   "version": "3.7.7"
  }
 },
 "nbformat": 4,
 "nbformat_minor": 4
}

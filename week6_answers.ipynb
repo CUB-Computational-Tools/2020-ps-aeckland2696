{
 "cells": [
  {
   "cell_type": "markdown",
   "metadata": {},
   "source": [
    "# Week 6 Answer Key:\n",
    "\n",
    "### The Steady Geotherm and Functions in R\n",
    "#### By: Abby Eckland"
   ]
  },
  {
   "cell_type": "markdown",
   "metadata": {},
   "source": [
    "## Questions\n",
    "\n",
    "1. Calculate the geotherm of the Earth's crust with a $Q_m$ of 0.05 $W/m^2$, $k$ of 3.5  $W/m^\\circ K$, and a varying surface temperature. Consider five surface temperatures of your choice. Compare the geotherms by plotting them in a single figure. Make sure your temperature selections produce reasonably different geotherms (as in they don't overlap in the plot).\n",
    "\n",
    "2. How does average surface temperature impact the geothermal gradient in the Earth's crust? Provide one example of a subsurface process that might be influenced by rising surface temperatures.\n",
    "\n",
    "3. Repeat question 1, but instead hold $\\overline{Ts}$ and $Q_m$ constant; vary $k$ between 2-4 $W/m^\\circ K$. Compare and contrast this plot with the example plot, where Qm varied. Make sure to comment about the trend of the temperature profiles."
   ]
  },
  {
   "cell_type": "markdown",
   "metadata": {},
   "source": [
    "# Answers"
   ]
  },
  {
   "cell_type": "markdown",
   "metadata": {},
   "source": [
    "#### Question 1 Answer:"
   ]
  },
  {
   "cell_type": "code",
   "execution_count": null,
   "metadata": {},
   "outputs": [],
   "source": [
    "# Import library\n",
    "library(tidyverse)"
   ]
  },
  {
   "cell_type": "code",
   "execution_count": null,
   "metadata": {},
   "outputs": [],
   "source": [
    "# Write new function called \"geotherm_2\"\n",
    "geotherm_2 <- function(Ts, Qm, k, z) {\n",
    "    return(Ts + (Qm/k)*z)\n",
    "}\n",
    "\n",
    "# Create tibble called \"args\" to define arguments and their values\n",
    "args <- \n",
    "  tibble(\n",
    "    Ts = c(seq(-20, 20, by = 10)),\n",
    "    Qm = c(rep(0.05, 5)),\n",
    "    k = c(rep(3.5, 5))\n",
    "  ) \n",
    "\n",
    "# Use piping to add z values to the tibble\n",
    "args_w_depths <- args %>% crossing(z = seq(0, 10000, by = 2500))\n",
    "\n",
    "# Run geotherm_2 over the new tibble with depth included\n",
    "# Add result to tibble\n",
    "geotherms <- args_w_depths %>% \n",
    "  mutate(\n",
    "    T = geotherm_2(Ts, Qm, k, z)\n",
    "  )\n",
    "\n",
    "# Print result\n",
    "geotherms"
   ]
  },
  {
   "cell_type": "code",
   "execution_count": null,
   "metadata": {},
   "outputs": [],
   "source": [
    "# Now let's plot!\n",
    "\n",
    "# sprintf returns a character vector containing a formatted combination of text and variable values\n",
    "geotherms %>%\n",
    "  mutate(\n",
    "    scenario = sprintf(\"Qm = %.2f, Ts = %.1fC, k = %.1f\", Qm, Ts, k)\n",
    "  ) %>%\n",
    "\n",
    "ggplot() +\n",
    "  geom_line(aes(x = T, y = z/1000, color = scenario)) +\n",
    "    labs(x = \"Temperature (C)\", y = \"Depth (km)\", title = \"The Steady Geotherm with Varying Ts\") +\n",
    "    theme(title = element_text(size = 16,face=\"bold\"), \n",
    "        axis.text.x = element_text(color = \"black\", size=14), \n",
    "        axis.text.y = element_text(color = \"black\", size=14)) + \n",
    "        scale_y_reverse() \n",
    "options(repr.plot.width = 10, repr.plot.height = 8) "
   ]
  },
  {
   "cell_type": "markdown",
   "metadata": {},
   "source": [
    "#### Question 2 Answer:\n",
    "\n",
    "The average surface temperature at the surface of the Earth impacts the temperature within the shallow subsurface, as seen in the plot above. Changing the average surface temperature, such as through global warming, could have dire consequences for chemical, biologic, and geologic processes that take place near the surface. One example is permafrost. If temperatures on the Earth's surface warm, this warming would penetrate into the subsurface and cause permafrost that has been frozen for a very long time to melt, which would subsequently influence biological and chemical processes within the subsurface and even the Earth's atmosphere. (Answers can range, creativity is encouraged). "
   ]
  },
  {
   "cell_type": "markdown",
   "metadata": {},
   "source": [
    "#### Question 3 Answers:"
   ]
  },
  {
   "cell_type": "code",
   "execution_count": null,
   "metadata": {},
   "outputs": [],
   "source": [
    "# Write new function called \"geotherm_2\"\n",
    "geotherm_2 <- function(Ts, Qm, k, z) {\n",
    "    return(Ts + (Qm/k)*z)\n",
    "}\n",
    "\n",
    "# Create tibble called \"args\" to define arguments and their values\n",
    "args <- \n",
    "  tibble(\n",
    "    Ts = c(rep(0, 5)),\n",
    "    Qm = c(rep(0.05, 5)),\n",
    "    k = c(seq(2, 4, by = 0.5))\n",
    "  ) \n",
    "\n",
    "# Use piping to add z values to the tibble\n",
    "args_w_depths <- args %>% crossing(z = seq(0, 10000, by = 2500))\n",
    "\n",
    "# Run geotherm_2 over the new tibble with depth included\n",
    "# Add result to tibble\n",
    "geotherms <- args_w_depths %>% \n",
    "  mutate(\n",
    "    T = geotherm_2(Ts, Qm, k, z)\n",
    "  )\n",
    "\n",
    "# Print result\n",
    "geotherms"
   ]
  },
  {
   "cell_type": "code",
   "execution_count": null,
   "metadata": {},
   "outputs": [],
   "source": [
    "# Now let's plot!\n",
    "\n",
    "# sprintf returns a character vector containing a formatted combination of text and variable values\n",
    "geotherms %>%\n",
    "  mutate(\n",
    "    scenario = sprintf(\"Qm = %.2f, Ts = %.1fC, k = %.1f\", Qm, Ts, k)\n",
    "  ) %>%\n",
    "\n",
    "ggplot() +\n",
    "  geom_line(aes(x = T, y = z/1000, color = scenario)) +\n",
    "    labs(x = \"Temperature (C)\", y = \"Depth (km)\", title = \"The Steady Geotherm with Varying k\") +\n",
    "    theme(title = element_text(size = 16,face=\"bold\"), \n",
    "        axis.text.x = element_text(color = \"black\", size=14), \n",
    "        axis.text.y = element_text(color = \"black\", size=14)) + \n",
    "        scale_y_reverse() \n",
    "options(repr.plot.width = 10, repr.plot.height = 8) "
   ]
  },
  {
   "cell_type": "markdown",
   "metadata": {},
   "source": [
    "**Question 3 Short Answer:** The plots with varying mantle heat flux and conductivity are similar in that all the temperature profiles begin at the same temperature and the signal propagates at depth at different slopes. The difference between the two plots, however, is that for a linearly increasing mantle heat flux (Qm), the temperature increases linearly as well. Contrastingly, as conductivity (k) increases at a steady rate, temperature increases at a non-steady rate, such that as k increases linearly, temperature increases non-linearly. This is because in the equation, k is located in the denominator, and Qm in the numberator. "
   ]
  },
  {
   "cell_type": "code",
   "execution_count": null,
   "metadata": {},
   "outputs": [],
   "source": []
  }
 ],
 "metadata": {
  "kernelspec": {
   "display_name": "R",
   "language": "R",
   "name": "ir"
  },
  "language_info": {
   "codemirror_mode": "r",
   "file_extension": ".r",
   "mimetype": "text/x-r-source",
   "name": "R",
   "pygments_lexer": "r",
   "version": "4.0.2"
  }
 },
 "nbformat": 4,
 "nbformat_minor": 4
}

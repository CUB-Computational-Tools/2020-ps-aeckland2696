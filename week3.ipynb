{
 "cells": [
  {
   "cell_type": "markdown",
   "metadata": {},
   "source": [
    "# Textural Maturity of Clastic Sedimentary Rocks\n",
    "\n",
    "#### By: Abby Eckland\n",
    "#### Draft Problem Set (Week 3)"
   ]
  },
  {
   "cell_type": "markdown",
   "metadata": {},
   "source": [
    "## Learning Goals\n",
    "\n",
    "#### After completing this exercise, you will be able to...\n",
    "##### ***Programming goals:*** \n",
    "\n",
    "1) Learn the basics of flow control in the Python language, including conditional statements and for loops\n",
    "\n",
    "2) Practice executing flow control problems to solve problems pertaining to sedimentary geology\n",
    "\n",
    "##### ***Learning goals:***\n",
    "\n",
    "1) Describe the key characteristics of clastic sedimentary rock texture\n",
    "\n",
    "2) Determine textrual maturity for rock and sediment samples"
   ]
  },
  {
   "cell_type": "markdown",
   "metadata": {},
   "source": [
    "## Prerequisites\n",
    "\n",
    "##### ***Programming prerequisites:*** \n",
    "Students should have some prior experience executing Python code and working with data structures. No prior knowledge about flow control is required.\n",
    "\n",
    "##### ***Learning prerequesites:***\n",
    "Students should have completed an introductory geology course and must currently be taking Sedimentology and Stratigraphy."
   ]
  },
  {
   "cell_type": "markdown",
   "metadata": {},
   "source": [
    "## Background\n",
    "\n",
    "In Sedimentology, it is important to understand the concept of textural maturity as it pertains to clastic sedimentary rocks. The purpose of this notebook is to introduce the four basic characteristics of clastic sedimentary rock texture. The 4 key characteristis include:\n",
    "- Textural maturity\n",
    "- Grain size\n",
    "- Grain sorting\n",
    "- Roundness & sphericity"
   ]
  },
  {
   "cell_type": "markdown",
   "metadata": {},
   "source": [
    "#### Textural Maturity (Will define these for final verison)"
   ]
  },
  {
   "cell_type": "markdown",
   "metadata": {},
   "source": [
    "![Textural maturity of clastic sedimentary rocks flow chart](data/textural_maturity.jpg)"
   ]
  },
  {
   "cell_type": "markdown",
   "metadata": {},
   "source": [
    "#### Grain size"
   ]
  },
  {
   "cell_type": "markdown",
   "metadata": {},
   "source": [
    "![Udden-Wentworth grain size scale](data/grain_size.jpg)"
   ]
  },
  {
   "cell_type": "markdown",
   "metadata": {},
   "source": [
    "#### Grain sorting"
   ]
  },
  {
   "cell_type": "markdown",
   "metadata": {},
   "source": [
    "![Roundness & sphericity chart](data/grain_roundness.gif)"
   ]
  },
  {
   "cell_type": "markdown",
   "metadata": {},
   "source": [
    "#### Roundness & sphericity"
   ]
  },
  {
   "cell_type": "markdown",
   "metadata": {},
   "source": [
    "![Grain sorting in clastic sedimentary rocks.](data/grain_sorting.jpg)"
   ]
  },
  {
   "cell_type": "markdown",
   "metadata": {},
   "source": [
    "## Example\n",
    "\n",
    "In this example, we will determine the textural maturity of 3 samples of sedimentary rock or loose sediment, given known information about the grain size, sorting, and rounding. Let's create a dictionary to describe each of the individual samples."
   ]
  },
  {
   "cell_type": "code",
   "execution_count": 87,
   "metadata": {},
   "outputs": [],
   "source": [
    "sample_1 = {'Mud Content': '<15% (Arenite)', 'Sorting': '>0.5 (Poorly sorted)', 'Clast Shape': 'Angular to subangular'} # Submature\n",
    "sample_2 = {'Mud Content': '<15% (Arenite)', 'Sorting': '<0.5 (Well sorted)', 'Clast Shape': 'Angular to subangular'} # Mature\n",
    "sample_3 = {'Mud Content': '>15% (Wacke)', 'Sorting': '>0.5 (Poorly sorted)', 'Clast Shape': 'Subangular to subrounded'} #Immature"
   ]
  },
  {
   "cell_type": "code",
   "execution_count": 95,
   "metadata": {},
   "outputs": [
    {
     "name": "stdout",
     "output_type": "stream",
     "text": [
      "Mud Content\n",
      "Sorting\n",
      "Clast Shape\n"
     ]
    }
   ],
   "source": [
    "for key in sample_1:\n",
    "    print(key)"
   ]
  },
  {
   "cell_type": "code",
   "execution_count": 98,
   "metadata": {},
   "outputs": [
    {
     "name": "stdout",
     "output_type": "stream",
     "text": [
      "Supermature\n"
     ]
    }
   ],
   "source": [
    "Angular = ['Very angular', 'Very angular to angular', 'Angular', 'Angular to subangular', 'Sub-angular']\n",
    "Rounded = ['Well rounded', 'Well rounded to rounded', 'Rounded', 'Rounded to sub-rounded', 'Sub-rounded']\n",
    "\n",
    "maturity = []\n",
    "for key, descriptions in sample_1.items():\n",
    "    if 'Mud Content' == '>15% (Wacke)':\n",
    "        maturity = 'Immature'\n",
    "    elif 'Sorting' == '>0.5 (Poorly sorted)':\n",
    "        maturity = 'Submature' # this sample should be sub-mature\n",
    "    elif 'Clast Shape' == Angular:\n",
    "        maturity = 'Mature'\n",
    "    else:\n",
    "        maturity = 'Supermature'\n",
    "print(maturity)"
   ]
  },
  {
   "cell_type": "markdown",
   "metadata": {},
   "source": [
    "## Question"
   ]
  },
  {
   "cell_type": "markdown",
   "metadata": {},
   "source": [
    "## References"
   ]
  },
  {
   "cell_type": "code",
   "execution_count": null,
   "metadata": {},
   "outputs": [],
   "source": []
  }
 ],
 "metadata": {
  "kernelspec": {
   "display_name": "Python 3",
   "language": "python",
   "name": "python3"
  },
  "language_info": {
   "codemirror_mode": {
    "name": "ipython",
    "version": 3
   },
   "file_extension": ".py",
   "mimetype": "text/x-python",
   "name": "python",
   "nbconvert_exporter": "python",
   "pygments_lexer": "ipython3",
   "version": "3.7.7"
  }
 },
 "nbformat": 4,
 "nbformat_minor": 4
}
